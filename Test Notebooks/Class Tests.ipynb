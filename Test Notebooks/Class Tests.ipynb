{
 "cells": [
  {
   "cell_type": "code",
   "execution_count": 211,
   "id": "dd81f7b6-e206-4d28-928e-8ec8d7ebd2f4",
   "metadata": {},
   "outputs": [],
   "source": [
    "import numpy as np\n",
    "import pandas as pd\n",
    "import matplotlib as plt\n",
    "import yfinance as yf\n",
    "import os\n",
    "from datetime import datetime"
   ]
  },
  {
   "cell_type": "code",
   "execution_count": 547,
   "id": "f0e1c02d-4c45-430b-9418-3d5d64afa2a8",
   "metadata": {},
   "outputs": [],
   "source": [
    "class Stock:\n",
    "    def __init__(self, ticker):\n",
    "        self.ticker = ticker\n",
    "        self.data = None\n",
    "\n",
    "    def get_history(self, period='1mo', interval='1d'):\n",
    "        self.data = yf.Ticker(self.ticker).history(period=period, interval=interval)\n",
    "        return self.data\n",
    "\n",
    "    def get_current_price(self):\n",
    "        if not self.data:\n",
    "            self.fetch_data(period='1d', interval='1m')\n",
    "        return self.data.iloc[-1]['Close']\n",
    "\n",
    "    def fetch_data(self, period='1mo', interval='1d'):\n",
    "        self.data = yf.Ticker(self.ticker).history(period=period, interval=interval)\n",
    "        return self.data\n",
    "\n",
    "    def get_current_prices(tickers):\n",
    "        \"\"\"tickers is a list of ticker names\"\"\"\n",
    "        retFrame = pd.DataFrame(columns=['ticker', 'current_price'])\n",
    "        for ticker in tickers:\n",
    "            # new_row = {'ticker': ticker, 'current_price': yf.Ticker(ticker).history(period='1d', interval='1m').iloc[-1]['Close']}\n",
    "            # retFrame.append(new_row, ignore_index=True)\n",
    "            retFrame.loc[len(retFrame)] = [ticker, yf.Ticker(ticker).history(period='1d', interval='1m').iloc[-1]['Close']]\n",
    "        return retFrame\n",
    "        \n",
    "    #### verify this ####\n",
    "    # def plot(self, period='1mo', interval='1d'):\n",
    "    #     data = self.get_history(period, interval)\n",
    "    #     plt.figure(figsize=(10, 5))\n",
    "    #     plt.plot(data.index, data['Close'])\n",
    "    #     plt.title(f'{self.ticker} Price over {period}')\n",
    "    #     plt.xlabel('Date')\n",
    "    #     plt.ylabel('Price')\n",
    "    #     plt.show()"
   ]
  },
  {
   "cell_type": "code",
   "execution_count": 558,
   "id": "475b7f3b-ff08-4c3b-bef1-a8ffbe325108",
   "metadata": {},
   "outputs": [],
   "source": [
    "class Portfolio:\n",
    "    def __init__(self, portfolio_filename=\"porfolio.csv\", transaction_history=\"transactions.csv\", initial_balance=10000., transaction_fee=10.):\n",
    "        self.balance = initial_balance\n",
    "        self.transaction_fee = transaction_fee\n",
    "        self.portfolio_filename = portfolio_filename\n",
    "        self.transaction_history_filename = transaction_history\n",
    "        self.stocks = pd.DataFrame(columns=['ticker', 'marketprice', 'average_price', 'shares', 'market_value', 'gainloss', 'pct_change', 'pct_portfolio'])\n",
    "        self.transaction_history = pd.DataFrame(columns=['date', 'transaction', 'ticker', 'initialbalance', 'endingbalance'])\n",
    "        \n",
    "        #load files if it exists, else create new \n",
    "        if os.path.exists(self.portfolio_filename):\n",
    "            self.stocks = self.load_portfolio(self.portfolio_filename)\n",
    "        if os.path.exists(self.transaction_history_filename):\n",
    "            self.transaction_history = self.load_transactions(transaction_history)\n",
    "\n",
    "        self.portfolio_market_value, self.portfolio_gainloss, self.portfolio_pct_change = self.get_portfolio_value()\n",
    "    \n",
    "    def load_transactions(self, filename):\n",
    "        transaction_history = pd.read_csv(filename)\n",
    "        self.balance = transaction_history.iloc[-1].endingbalance\n",
    "        return transaction_history\n",
    "\n",
    "    def save_transactions(self, filename):\n",
    "        self.transaction_history.to_csv(filename, index=False, mode='w') \n",
    "\n",
    "    def add_transaction(self, transactiondata):\n",
    "        ## transactiondata = [date, transaction, ticker, initialbalance, endingbalance]\n",
    "        self.balance = transactiondata[4] ## ending balance\n",
    "        self.transaction_history.loc[len(self.transaction_history)] = transactiondata\n",
    "        self.save_transactions(self.transaction_history_filename)\n",
    "\n",
    "    ## available transactions ##\n",
    "    def deposit(self, amount):\n",
    "        self.add_transaction([datetime.today().strftime('%m/%d/%Y'), 'Deposit', ticker, self.balance, self.balance + amount])\n",
    "        self.balance += amount\n",
    "        \n",
    "    def withdraw(self, amount):\n",
    "        self.add_transaction([datetime.today().strftime('%m/%d/%Y'), 'Withdraw', ticker, self.balance, self.balance - amount])\n",
    "        self.balance -= amount\n",
    "\n",
    "    ## portfolio actions ##\n",
    "    def buy_stock(self, ticker, shares, price):\n",
    "        stock = Stock(ticker)\n",
    "        current_price = stock.get_current_price()\n",
    "        total_cost = price * shares + self.transaction_fee\n",
    "\n",
    "        if self.balance >= total_cost:\n",
    "            if ticker in self.stocks['ticker'].values:\n",
    "                self.stocks.loc[self.stocks['ticker'] == ticker, 'marketprice'] = current_price\n",
    "                self.stocks.loc[self.stocks['ticker'] == ticker, 'shares'] += shares\n",
    "                self.stocks.loc[self.stocks['ticker'] == ticker, 'average_price'] = ((\n",
    "                            (self.stocks.loc[self.stocks['ticker'] == ticker, 'average_price'] * \n",
    "                             self.stocks.loc[self.stocks['ticker'] == ticker, 'shares']) + (shares * (price+self.transaction_fee))\n",
    "                        ) / (self.stocks.loc[self.stocks['ticker'] == ticker, 'shares'] + shares)).astype('float64')\n",
    "                self.stocks.loc[self.stocks['ticker'] == ticker, 'market_value'] = self.stocks.loc[self.stocks['ticker'] == ticker, 'shares'] * current_price\n",
    "                self.stocks.loc[self.stocks['ticker'] == ticker, 'gainloss'] = self.stocks.loc[self.stocks['ticker'] == ticker, 'market_value'] - (self.stocks.loc[self.stocks['ticker'] == ticker, 'average_price'] * self.stocks.loc[self.stocks['ticker'] == ticker, 'shares'])\n",
    "                self.stocks.loc[self.stocks['ticker'] == ticker, 'pct_change'] = self.stocks.loc[self.stocks['ticker'] == ticker, 'gainloss'] / (self.stocks.loc[self.stocks['ticker'] == ticker, 'average_price'] * self.stocks.loc[self.stocks['ticker'] == ticker, 'shares'])\n",
    "            else:\n",
    "                #stock df: ['ticker', 'marketprice', 'average_price', 'shares', 'market_value', 'gainloss', 'pct_change', 'pct_portfolio']\n",
    "                gainloss =  (shares * current_price) - total_cost\n",
    "                pct_change = gainloss/total_cost\n",
    "                new_stock = pd.DataFrame({'ticker': ticker, \n",
    "                                          'marketprice': current_price, \n",
    "                                          'average_price': total_cost/shares, \n",
    "                                          'shares': shares,\n",
    "                                          'market_value': shares * current_price,\n",
    "                                          'gainloss' : gainloss, \n",
    "                                          'pct_change' : pct_change \n",
    "                                          # 'pct_portfolio' : 0\n",
    "                                         }, index=[0])\n",
    "                self.stocks = pd.concat([self.stocks, new_stock], ignore_index=True)\n",
    "\n",
    "            #update pct_portfolio for all stocks in df\n",
    "            self.stocks['pct_portfolio'] = self.stocks['market_value'] / self.stocks['market_value'].sum()\n",
    "            self.add_transaction([datetime.today().strftime('%m/%d/%Y'), 'Buy', ticker, self.balance, self.balance - total_cost])\n",
    "            self.balance -= total_cost\n",
    "            self.save_portfolio(self.portfolio_filename)\n",
    "            return (True, f\"Bought {shares} shares of {ticker} at {price} each.\")\n",
    "        else:\n",
    "            return (False, \"Insufficient funds to complete this purchase.\")\n",
    "            \n",
    "    def sell_stock(self, ticker, shares, price):\n",
    "        if ticker in self.stocks['ticker'].values:\n",
    "            stock = Stock(ticker)\n",
    "            market_price = stock.get_current_price()\n",
    "            total_revenue = price * shares - self.transaction_fee\n",
    "\n",
    "            if self.stocks.loc[self.stocks['ticker'] == ticker, 'shares'].values[0] >= shares:\n",
    "                self.stocks.loc[self.stocks['ticker'] == ticker, 'shares'] -= shares\n",
    "                if self.stocks.loc[self.stocks['ticker'] == ticker, 'shares'].values[0] == 0:\n",
    "                    self.stocks = self.stocks[self.stocks['ticker'] != ticker] ## remove ticker entirely\n",
    "                else: ## update df values for ticker\n",
    "                    self.stocks.loc[self.stocks['ticker'] == ticker, 'market_value'] = (self.stocks.loc[self.stocks['ticker'] == ticker, 'shares'] * market_price).astype('float64')\n",
    "                    self.stocks.loc[self.stocks['ticker'] == ticker, 'gainloss'] = (self.stocks.loc[self.stocks['ticker'] == ticker, 'market_value'] - (self.stocks.loc[self.stocks['ticker'] == ticker, 'average_price'] * self.stocks.loc[self.stocks['ticker'] == ticker, 'shares'])).astype('float64')\n",
    "                    self.stocks.loc[self.stocks['ticker'] == ticker, 'pct_change'] = (self.stocks.loc[self.stocks['ticker'] == ticker, 'gainloss'] / (self.stocks.loc[self.stocks['ticker'] == ticker, 'average_price'] * self.stocks.loc[self.stocks['ticker'] == ticker, 'shares'])).astype('float64')\n",
    "                self.stocks['pct_portfolio'] = self.stocks['market_value'] / self.stocks['market_value'].sum()\n",
    "                self.add_transaction([datetime.today().strftime('%m/%d/%Y'), 'Sell', ticker, self.balance, self.balance + total_revenue])\n",
    "                self.balance += total_revenue\n",
    "                self.save_portfolio(self.portfolio_filename)\n",
    "                return (True, f\"Sold {shares} shares of {ticker} at {price} each.\")\n",
    "            else:\n",
    "                return (False, \"Not enough shares to sell.\")\n",
    "        else:\n",
    "            return (False, f\"No shares of {ticker} found in portfolio.\")\n",
    "\n",
    "    def save_portfolio(self, filename):\n",
    "        self.stocks.to_csv(filename, index=False, mode='w') \n",
    "\n",
    "    def load_portfolio(self, filename):\n",
    "        stocks = pd.read_csv(filename)\n",
    "        return stocks\n",
    "        \n",
    "    def get_portfolio_value(self):\n",
    "        portfolio_market_value = self.stocks['market_value'].sum()\n",
    "        portfolio_acq_value = (self.stocks['average_price']*self.stocks['shares']).sum()\n",
    "        portfolio_gainloss = portfolio_market_value - portfolio_acq_value\n",
    "        portfolio_pct_change = portfolio_gainloss/portfolio_acq_value\n",
    "        return portfolio_market_value, portfolio_gainloss, portfolio_pct_change\n",
    "\n",
    "    def get_portfolio(self):\n",
    "        return self.stocks\n",
    "\n",
    "    def refresh_data(self):\n",
    "        ticker_list = self.stocks['ticker'].to_list()\n",
    "        df_current_prices = Stock.get_current_prices(ticker_list)\n",
    "        self.stocks['market_price'] = self.stocks['ticker'].map(df_current_prices.set_index('ticker')['current_price'])\n",
    "        ## update other columns dependent on market price\n",
    "        self.stocks.loc[self.stocks['ticker'] == ticker, 'market_value'] = self.stocks.loc[self.stocks['ticker'] == ticker, 'shares'] * self.stocks.loc[self.stocks['ticker'] == ticker, 'market_price']\n",
    "        self.stocks.loc[self.stocks['ticker'] == ticker, 'gainloss'] = self.stocks.loc[self.stocks['ticker'] == ticker, 'market_value'] - (self.stocks.loc[self.stocks['ticker'] == ticker, 'average_price'] * self.stocks.loc[self.stocks['ticker'] == ticker, 'shares'])\n",
    "        self.stocks.loc[self.stocks['ticker'] == ticker, 'pct_change'] = self.stocks.loc[self.stocks['ticker'] == ticker, 'gainloss'] / (self.stocks.loc[self.stocks['ticker'] == ticker, 'average_price'] * self.stocks.loc[self.stocks['ticker'] == ticker, 'shares'])\n",
    "        ## update portfolio values\n",
    "        self.portfolio_market_value, self.portfolio_gainloss, self.portfolio_pct_change = self.get_portfolio_value()\n",
    "    \n",
    "    def display_portfolio(self):\n",
    "        print(\"Portfolio:\")\n",
    "        print(f\"Balance: ${self.balance:.2f}\")\n",
    "        print(f\"Total Portfolio Value: ${self.portfolio_market_value:.2f}\")\n",
    "        print(f\"Total Portfolio Gain/Loss: ${self.portfolio_gainloss:.2f}\")\n",
    "        print(f\"Total Portfolio Pct Change: {self.portfolio_pct_change:.2f}%\")    \n"
   ]
  },
  {
   "cell_type": "code",
   "execution_count": 559,
   "id": "97387722-8db0-4ab7-8fa9-e438e796f57f",
   "metadata": {},
   "outputs": [],
   "source": [
    "portfolio = Portfolio()"
   ]
  },
  {
   "cell_type": "code",
   "execution_count": 560,
   "id": "602a3b67-c654-407e-a792-f8bc92125ba2",
   "metadata": {},
   "outputs": [
    {
     "name": "stdout",
     "output_type": "stream",
     "text": [
      "Portfolio:\n",
      "Balance: $994700.00\n",
      "Total Portfolio Value: $3152.74\n",
      "Total Portfolio Gain/Loss: $637.74\n",
      "Total Portfolio Pct Change: 0.25%\n"
     ]
    }
   ],
   "source": [
    "portfolio.display_portfolio()"
   ]
  },
  {
   "cell_type": "code",
   "execution_count": 115,
   "id": "35c0867e-4c54-4d8c-9b77-e78cfea78c31",
   "metadata": {},
   "outputs": [
    {
     "ename": "AttributeError",
     "evalue": "'Portfolio' object has no attribute 'load_portfolio'",
     "output_type": "error",
     "traceback": [
      "\u001b[0;31m---------------------------------------------------------------------------\u001b[0m",
      "\u001b[0;31mAttributeError\u001b[0m                            Traceback (most recent call last)",
      "Cell \u001b[0;32mIn[115], line 1\u001b[0m\n\u001b[0;32m----> 1\u001b[0m portfolio \u001b[38;5;241m=\u001b[39m Portfolio(portfolio_filename\u001b[38;5;241m=\u001b[39m\u001b[38;5;124m\"\u001b[39m\u001b[38;5;124mportfolio.csv\u001b[39m\u001b[38;5;124m\"\u001b[39m, transaction_history\u001b[38;5;241m=\u001b[39m\u001b[38;5;124m\"\u001b[39m\u001b[38;5;124mtransactions.csv\u001b[39m\u001b[38;5;124m\"\u001b[39m)\n",
      "Cell \u001b[0;32mIn[114], line 10\u001b[0m, in \u001b[0;36mPortfolio.__init__\u001b[0;34m(self, portfolio_filename, transaction_history, initial_balance, transaction_fee)\u001b[0m\n\u001b[1;32m      8\u001b[0m \u001b[38;5;28;01mif\u001b[39;00m portfolio_filename \u001b[38;5;241m!=\u001b[39m \u001b[38;5;124m\"\u001b[39m\u001b[38;5;124m\"\u001b[39m:\n\u001b[1;32m      9\u001b[0m     \u001b[38;5;28mself\u001b[39m\u001b[38;5;241m.\u001b[39mportfolio_filename \u001b[38;5;241m=\u001b[39m portfolio_filename\n\u001b[0;32m---> 10\u001b[0m     \u001b[38;5;28mself\u001b[39m\u001b[38;5;241m.\u001b[39mportfolio \u001b[38;5;241m=\u001b[39m \u001b[38;5;28mself\u001b[39m\u001b[38;5;241m.\u001b[39mload_portfolio(portfolio_filename)\n\u001b[1;32m     11\u001b[0m \u001b[38;5;66;03m#load transaction history if given\u001b[39;00m\n\u001b[1;32m     12\u001b[0m \u001b[38;5;28;01mif\u001b[39;00m transaction_history \u001b[38;5;241m!=\u001b[39m \u001b[38;5;124m\"\u001b[39m\u001b[38;5;124m\"\u001b[39m:\n",
      "\u001b[0;31mAttributeError\u001b[0m: 'Portfolio' object has no attribute 'load_portfolio'"
     ]
    }
   ],
   "source": [
    "# portfolio = Portfolio(portfolio_filename=\"portfolio.csv\", transaction_history=\"transactions.csv\")"
   ]
  },
  {
   "cell_type": "code",
   "execution_count": 551,
   "id": "f751c162-4b93-48b1-88b2-27d70caf382a",
   "metadata": {},
   "outputs": [
    {
     "data": {
      "text/plain": [
       "994700.0"
      ]
     },
     "execution_count": 551,
     "metadata": {},
     "output_type": "execute_result"
    }
   ],
   "source": [
    "portfolio.balance"
   ]
  },
  {
   "cell_type": "code",
   "execution_count": 527,
   "id": "dbb160d8-0229-471b-b44a-24e52ea01c7c",
   "metadata": {},
   "outputs": [
    {
     "data": {
      "text/html": [
       "<div>\n",
       "<style scoped>\n",
       "    .dataframe tbody tr th:only-of-type {\n",
       "        vertical-align: middle;\n",
       "    }\n",
       "\n",
       "    .dataframe tbody tr th {\n",
       "        vertical-align: top;\n",
       "    }\n",
       "\n",
       "    .dataframe thead th {\n",
       "        text-align: right;\n",
       "    }\n",
       "</style>\n",
       "<table border=\"1\" class=\"dataframe\">\n",
       "  <thead>\n",
       "    <tr style=\"text-align: right;\">\n",
       "      <th></th>\n",
       "      <th>ticker</th>\n",
       "      <th>marketprice</th>\n",
       "      <th>average_price</th>\n",
       "      <th>shares</th>\n",
       "      <th>market_value</th>\n",
       "      <th>gainloss</th>\n",
       "      <th>pct_change</th>\n",
       "      <th>pct_portfolio</th>\n",
       "      <th>balance</th>\n",
       "    </tr>\n",
       "  </thead>\n",
       "  <tbody>\n",
       "    <tr>\n",
       "      <th>0</th>\n",
       "      <td>AAPL</td>\n",
       "      <td>226.773605</td>\n",
       "      <td>201.0</td>\n",
       "      <td>10</td>\n",
       "      <td>2267.736053</td>\n",
       "      <td>257.736053</td>\n",
       "      <td>0.128227</td>\n",
       "      <td>0.719291</td>\n",
       "      <td>995440.0</td>\n",
       "    </tr>\n",
       "    <tr>\n",
       "      <th>1</th>\n",
       "      <td>AMZN</td>\n",
       "      <td>177.000000</td>\n",
       "      <td>101.0</td>\n",
       "      <td>5</td>\n",
       "      <td>885.000000</td>\n",
       "      <td>380.000000</td>\n",
       "      <td>0.752475</td>\n",
       "      <td>0.280709</td>\n",
       "      <td>995440.0</td>\n",
       "    </tr>\n",
       "  </tbody>\n",
       "</table>\n",
       "</div>"
      ],
      "text/plain": [
       "  ticker  marketprice  average_price  shares  market_value    gainloss  \\\n",
       "0   AAPL   226.773605          201.0      10   2267.736053  257.736053   \n",
       "1   AMZN   177.000000          101.0       5    885.000000  380.000000   \n",
       "\n",
       "   pct_change  pct_portfolio   balance  \n",
       "0    0.128227       0.719291  995440.0  \n",
       "1    0.752475       0.280709  995440.0  "
      ]
     },
     "execution_count": 527,
     "metadata": {},
     "output_type": "execute_result"
    }
   ],
   "source": [
    "portfolio.stocks"
   ]
  },
  {
   "cell_type": "code",
   "execution_count": 478,
   "id": "51257203-38cb-4b20-bb43-da035e756ea3",
   "metadata": {},
   "outputs": [
    {
     "data": {
      "text/html": [
       "<div>\n",
       "<style scoped>\n",
       "    .dataframe tbody tr th:only-of-type {\n",
       "        vertical-align: middle;\n",
       "    }\n",
       "\n",
       "    .dataframe tbody tr th {\n",
       "        vertical-align: top;\n",
       "    }\n",
       "\n",
       "    .dataframe thead th {\n",
       "        text-align: right;\n",
       "    }\n",
       "</style>\n",
       "<table border=\"1\" class=\"dataframe\">\n",
       "  <thead>\n",
       "    <tr style=\"text-align: right;\">\n",
       "      <th></th>\n",
       "      <th>ticker</th>\n",
       "      <th>marketprice</th>\n",
       "      <th>average_price</th>\n",
       "      <th>shares</th>\n",
       "      <th>market_value</th>\n",
       "      <th>gainloss</th>\n",
       "      <th>pct_change</th>\n",
       "      <th>pct_portfolio</th>\n",
       "      <th>balance</th>\n",
       "    </tr>\n",
       "  </thead>\n",
       "  <tbody>\n",
       "    <tr>\n",
       "      <th>0</th>\n",
       "      <td>AAPL</td>\n",
       "      <td>226.773605</td>\n",
       "      <td>201.0</td>\n",
       "      <td>10</td>\n",
       "      <td>2267.736053</td>\n",
       "      <td>257.736053</td>\n",
       "      <td>0.128227</td>\n",
       "      <td>0.719291</td>\n",
       "      <td>995440.0</td>\n",
       "    </tr>\n",
       "    <tr>\n",
       "      <th>1</th>\n",
       "      <td>AMZN</td>\n",
       "      <td>177.000000</td>\n",
       "      <td>101.0</td>\n",
       "      <td>5</td>\n",
       "      <td>885.000000</td>\n",
       "      <td>380.000000</td>\n",
       "      <td>0.752475</td>\n",
       "      <td>0.280709</td>\n",
       "      <td>995440.0</td>\n",
       "    </tr>\n",
       "  </tbody>\n",
       "</table>\n",
       "</div>"
      ],
      "text/plain": [
       "  ticker  marketprice  average_price  shares  market_value    gainloss  \\\n",
       "0   AAPL   226.773605          201.0      10   2267.736053  257.736053   \n",
       "1   AMZN   177.000000          101.0       5    885.000000  380.000000   \n",
       "\n",
       "   pct_change  pct_portfolio   balance  \n",
       "0    0.128227       0.719291  995440.0  \n",
       "1    0.752475       0.280709  995440.0  "
      ]
     },
     "execution_count": 478,
     "metadata": {},
     "output_type": "execute_result"
    }
   ],
   "source": [
    "portfolio.get_portfolio()"
   ]
  },
  {
   "cell_type": "code",
   "execution_count": 526,
   "id": "088cd47e-b440-4b7a-b06d-c60899e22438",
   "metadata": {},
   "outputs": [
    {
     "data": {
      "text/html": [
       "<div>\n",
       "<style scoped>\n",
       "    .dataframe tbody tr th:only-of-type {\n",
       "        vertical-align: middle;\n",
       "    }\n",
       "\n",
       "    .dataframe tbody tr th {\n",
       "        vertical-align: top;\n",
       "    }\n",
       "\n",
       "    .dataframe thead th {\n",
       "        text-align: right;\n",
       "    }\n",
       "</style>\n",
       "<table border=\"1\" class=\"dataframe\">\n",
       "  <thead>\n",
       "    <tr style=\"text-align: right;\">\n",
       "      <th></th>\n",
       "      <th>date</th>\n",
       "      <th>transaction</th>\n",
       "      <th>ticker</th>\n",
       "      <th>initialbalance</th>\n",
       "      <th>endingbalance</th>\n",
       "    </tr>\n",
       "  </thead>\n",
       "  <tbody>\n",
       "    <tr>\n",
       "      <th>0</th>\n",
       "      <td>08/01/2024</td>\n",
       "      <td>Deposit</td>\n",
       "      <td>NaN</td>\n",
       "      <td>0.0</td>\n",
       "      <td>1000000.0</td>\n",
       "    </tr>\n",
       "    <tr>\n",
       "      <th>1</th>\n",
       "      <td>08/25/2024</td>\n",
       "      <td>Buy</td>\n",
       "      <td>AAPL</td>\n",
       "      <td>1000000.0</td>\n",
       "      <td>997990.0</td>\n",
       "    </tr>\n",
       "    <tr>\n",
       "      <th>2</th>\n",
       "      <td>08/25/2024</td>\n",
       "      <td>Buy</td>\n",
       "      <td>AMZN</td>\n",
       "      <td>995980.0</td>\n",
       "      <td>994970.0</td>\n",
       "    </tr>\n",
       "    <tr>\n",
       "      <th>3</th>\n",
       "      <td>08/25/2024</td>\n",
       "      <td>Sell</td>\n",
       "      <td>AMZN</td>\n",
       "      <td>993960.0</td>\n",
       "      <td>994700.0</td>\n",
       "    </tr>\n",
       "  </tbody>\n",
       "</table>\n",
       "</div>"
      ],
      "text/plain": [
       "         date transaction ticker  initialbalance  endingbalance\n",
       "0  08/01/2024     Deposit    NaN             0.0      1000000.0\n",
       "1  08/25/2024         Buy   AAPL       1000000.0       997990.0\n",
       "2  08/25/2024         Buy   AMZN        995980.0       994970.0\n",
       "3  08/25/2024        Sell   AMZN        993960.0       994700.0"
      ]
     },
     "execution_count": 526,
     "metadata": {},
     "output_type": "execute_result"
    }
   ],
   "source": [
    "portfolio.transaction_history"
   ]
  },
  {
   "cell_type": "code",
   "execution_count": 453,
   "id": "60ab4731-ad33-4661-8338-8bc44ea55666",
   "metadata": {},
   "outputs": [
    {
     "name": "stdout",
     "output_type": "stream",
     "text": [
      "Portfolio saved to porfolio.csv.\n"
     ]
    },
    {
     "name": "stderr",
     "output_type": "stream",
     "text": [
      "/var/folders/t1/5nr3g_gn1slfdr7hzjv8dxnw0000gp/T/ipykernel_96907/1559200644.py:69: FutureWarning: The behavior of DataFrame concatenation with empty or all-NA entries is deprecated. In a future version, this will no longer exclude empty or all-NA columns when determining the result dtypes. To retain the old behavior, exclude the relevant entries before the concat operation.\n",
      "  self.stocks = pd.concat([self.stocks, new_stock], ignore_index=True)\n"
     ]
    },
    {
     "data": {
      "text/plain": [
       "(True, 'Bought 10 shares of AAPL at 200 each.')"
      ]
     },
     "execution_count": 453,
     "metadata": {},
     "output_type": "execute_result"
    }
   ],
   "source": [
    "portfolio.buy_stock('AAPL', 10, 200)"
   ]
  },
  {
   "cell_type": "code",
   "execution_count": 454,
   "id": "26b2f0d1-84c6-4805-bd5e-a3ce38e000a0",
   "metadata": {},
   "outputs": [
    {
     "name": "stdout",
     "output_type": "stream",
     "text": [
      "Portfolio saved to porfolio.csv.\n"
     ]
    },
    {
     "data": {
      "text/plain": [
       "(True, 'Bought 10 shares of AMZN at 100 each.')"
      ]
     },
     "execution_count": 454,
     "metadata": {},
     "output_type": "execute_result"
    }
   ],
   "source": [
    "portfolio.buy_stock('AMZN', 10, 100)"
   ]
  },
  {
   "cell_type": "code",
   "execution_count": 455,
   "id": "46173b45-168f-4782-980a-ee20aec3a90a",
   "metadata": {},
   "outputs": [
    {
     "name": "stdout",
     "output_type": "stream",
     "text": [
      "Portfolio saved to porfolio.csv.\n"
     ]
    },
    {
     "data": {
      "text/plain": [
       "(True, 'Sold 5 shares of AMZN at 150 each.')"
      ]
     },
     "execution_count": 455,
     "metadata": {},
     "output_type": "execute_result"
    }
   ],
   "source": [
    "portfolio.sell_stock('AMZN', 5, 150)"
   ]
  },
  {
   "cell_type": "code",
   "execution_count": 472,
   "id": "90c9782d-411d-4cd5-919d-1ca0530d719c",
   "metadata": {},
   "outputs": [
    {
     "data": {
      "text/plain": [
       "(3152.736053466797, 637.7360534667969, 0.2535729834858039)"
      ]
     },
     "execution_count": 472,
     "metadata": {},
     "output_type": "execute_result"
    }
   ],
   "source": [
    "portfolio.get_portfolio_value()"
   ]
  },
  {
   "cell_type": "code",
   "execution_count": 487,
   "id": "ae227910-fed1-4d5a-9155-01f73e79f612",
   "metadata": {},
   "outputs": [
    {
     "data": {
      "text/plain": [
       "'AAPL AMZN'"
      ]
     },
     "execution_count": 487,
     "metadata": {},
     "output_type": "execute_result"
    }
   ],
   "source": [
    "' '.join(portfolio.stocks['ticker'])"
   ]
  },
  {
   "cell_type": "code",
   "execution_count": 486,
   "id": "12260df7-f617-492c-9ed0-a55af00718b8",
   "metadata": {},
   "outputs": [
    {
     "data": {
      "text/plain": [
       "'AAPL AMZN'"
      ]
     },
     "execution_count": 486,
     "metadata": {},
     "output_type": "execute_result"
    }
   ],
   "source": [
    "portfolio.stocks['ticker'].str.cat(sep=' ')"
   ]
  },
  {
   "cell_type": "code",
   "execution_count": 537,
   "id": "ae71fd0e-0fc4-4014-b7c9-4520a6e0b1f7",
   "metadata": {},
   "outputs": [
    {
     "data": {
      "text/plain": [
       "['AAPL', 'AMZN']"
      ]
     },
     "execution_count": 537,
     "metadata": {},
     "output_type": "execute_result"
    }
   ],
   "source": [
    "portfolio.stocks['ticker'].to_list()"
   ]
  },
  {
   "cell_type": "code",
   "execution_count": 553,
   "id": "4e3d220c-eee4-4eeb-acd4-6f265f04c3dc",
   "metadata": {},
   "outputs": [],
   "source": [
    "portfolio.refresh_data()"
   ]
  },
  {
   "cell_type": "code",
   "execution_count": 554,
   "id": "3e6a6934-1336-4fe3-9468-2fccc22a35ff",
   "metadata": {},
   "outputs": [
    {
     "data": {
      "text/html": [
       "<div>\n",
       "<style scoped>\n",
       "    .dataframe tbody tr th:only-of-type {\n",
       "        vertical-align: middle;\n",
       "    }\n",
       "\n",
       "    .dataframe tbody tr th {\n",
       "        vertical-align: top;\n",
       "    }\n",
       "\n",
       "    .dataframe thead th {\n",
       "        text-align: right;\n",
       "    }\n",
       "</style>\n",
       "<table border=\"1\" class=\"dataframe\">\n",
       "  <thead>\n",
       "    <tr style=\"text-align: right;\">\n",
       "      <th></th>\n",
       "      <th>ticker</th>\n",
       "      <th>marketprice</th>\n",
       "      <th>average_price</th>\n",
       "      <th>shares</th>\n",
       "      <th>market_value</th>\n",
       "      <th>gainloss</th>\n",
       "      <th>pct_change</th>\n",
       "      <th>pct_portfolio</th>\n",
       "      <th>balance</th>\n",
       "      <th>market_price</th>\n",
       "    </tr>\n",
       "  </thead>\n",
       "  <tbody>\n",
       "    <tr>\n",
       "      <th>0</th>\n",
       "      <td>AAPL</td>\n",
       "      <td>226.773605</td>\n",
       "      <td>201.0</td>\n",
       "      <td>10</td>\n",
       "      <td>2267.736053</td>\n",
       "      <td>257.736053</td>\n",
       "      <td>0.128227</td>\n",
       "      <td>0.719291</td>\n",
       "      <td>995440.0</td>\n",
       "      <td>226.773605</td>\n",
       "    </tr>\n",
       "    <tr>\n",
       "      <th>1</th>\n",
       "      <td>AMZN</td>\n",
       "      <td>177.000000</td>\n",
       "      <td>101.0</td>\n",
       "      <td>5</td>\n",
       "      <td>885.000000</td>\n",
       "      <td>380.000000</td>\n",
       "      <td>0.752475</td>\n",
       "      <td>0.280709</td>\n",
       "      <td>995440.0</td>\n",
       "      <td>177.000000</td>\n",
       "    </tr>\n",
       "  </tbody>\n",
       "</table>\n",
       "</div>"
      ],
      "text/plain": [
       "  ticker  marketprice  average_price  shares  market_value    gainloss  \\\n",
       "0   AAPL   226.773605          201.0      10   2267.736053  257.736053   \n",
       "1   AMZN   177.000000          101.0       5    885.000000  380.000000   \n",
       "\n",
       "   pct_change  pct_portfolio   balance  market_price  \n",
       "0    0.128227       0.719291  995440.0    226.773605  \n",
       "1    0.752475       0.280709  995440.0    177.000000  "
      ]
     },
     "execution_count": 554,
     "metadata": {},
     "output_type": "execute_result"
    }
   ],
   "source": [
    "portfolio.get_portfolio()"
   ]
  },
  {
   "cell_type": "code",
   "execution_count": 557,
   "id": "ace0fc25-e3f2-4ded-8c73-104c5578a67e",
   "metadata": {},
   "outputs": [
    {
     "data": {
      "text/plain": [
       "0.2535729834858039"
      ]
     },
     "execution_count": 557,
     "metadata": {},
     "output_type": "execute_result"
    }
   ],
   "source": [
    "portfolio.portfolio_pct_change"
   ]
  }
 ],
 "metadata": {
  "kernelspec": {
   "display_name": "Python 3 (ipykernel)",
   "language": "python",
   "name": "python3"
  },
  "language_info": {
   "codemirror_mode": {
    "name": "ipython",
    "version": 3
   },
   "file_extension": ".py",
   "mimetype": "text/x-python",
   "name": "python",
   "nbconvert_exporter": "python",
   "pygments_lexer": "ipython3",
   "version": "3.11.9"
  }
 },
 "nbformat": 4,
 "nbformat_minor": 5
}
